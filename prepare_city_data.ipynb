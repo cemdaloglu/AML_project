{
 "cells": [
  {
   "cell_type": "markdown",
   "id": "921d2c04",
   "metadata": {},
   "source": [
    "# Preparing the multispectral-image data and corresponding segmentation"
   ]
  },
  {
   "cell_type": "markdown",
   "id": "49071d87",
   "metadata": {},
   "source": [
    "### Export Sentinel-2 satellite imagery from Copernicus Scihub\n",
    "\n",
    "Search for a city on https://scihub.copernicus.eu/dhus/#/home, filtering for Mission: Sentinel-2 and L1C product type. Export the data and unzip the folder locally. Detailed instructions are available at https://www.copernicus-user-uptake.eu/fileadmin/FPCUP/dateien/resources/2018-1-06/Guide_basics_satellite_data_english.pdf\n",
    "\n",
    "### Export Urban Atlas land cover labels\n",
    "\n",
    "Search for a city on https://land.copernicus.eu/local/urban-atlas/urban-atlas-2018?tab=download, download it and unzip the folder locally.\n",
    "\n",
    "### Process\n",
    "\n",
    "We create two GeoTiff files. First one contains 4 bands from a set of the satellite images, namely B02 (B), B03 (G), B04 (R), B08 (NIR). The second one contains the corresponding land use labels rasterized from Urban Atlas vector data. Steps that require manual change are marked in <span style=\"color:red\">red</span>. We assume the dataset root file is at `datasets/final/`, change that accordingly."
   ]
  },
  {
   "cell_type": "markdown",
   "id": "5aac4ed7",
   "metadata": {},
   "source": [
    "#### <span style=\"color:red\">Step 0</span>: Choose the filename stem of output files"
   ]
  },
  {
   "cell_type": "code",
   "execution_count": 1,
   "id": "3bacb590",
   "metadata": {},
   "outputs": [],
   "source": [
    "city = \"heidelberg\""
   ]
  },
  {
   "cell_type": "markdown",
   "id": "4cb36c18",
   "metadata": {},
   "source": [
    "<b><span style=\"color:red\">Step 1</span>: Join the four bands of a single exported satellite image into an intermediate .vrt file</b>"
   ]
  },
  {
   "cell_type": "code",
   "execution_count": 2,
   "id": "5676ce7b",
   "metadata": {},
   "outputs": [
    {
     "name": "stdout",
     "output_type": "stream",
     "text": [
      "0...10...20...30...40...50...60...70...80...90...100 - done.\n"
     ]
    }
   ],
   "source": [
    "%%bash\n",
    "\n",
    "gdalbuildvrt \\\n",
    "-separate \\\n",
    "datasets/final/intermediate.vrt \\\n",
    "datasets/final/raw/S2/S2A_MSIL1C_20180912T103021_N0206_R108_T32UMV_20180912T143117.SAFE/GRANULE/L1C_T32UMV_A016836_20180912T103308/IMG_DATA/T32UMV_20180912T103021_B02.jp2 \\\n",
    "datasets/final/raw/S2/S2A_MSIL1C_20180912T103021_N0206_R108_T32UMV_20180912T143117.SAFE/GRANULE/L1C_T32UMV_A016836_20180912T103308/IMG_DATA/T32UMV_20180912T103021_B03.jp2 \\\n",
    "datasets/final/raw/S2/S2A_MSIL1C_20180912T103021_N0206_R108_T32UMV_20180912T143117.SAFE/GRANULE/L1C_T32UMV_A016836_20180912T103308/IMG_DATA/T32UMV_20180912T103021_B04.jp2 \\\n",
    "datasets/final/raw/S2/S2A_MSIL1C_20180912T103021_N0206_R108_T32UMV_20180912T143117.SAFE/GRANULE/L1C_T32UMV_A016836_20180912T103308/IMG_DATA/T32UMV_20180912T103021_B08.jp2"
   ]
  },
  {
   "cell_type": "markdown",
   "id": "db032ede",
   "metadata": {},
   "source": [
    "<b>Step 2: Look up information of the exported satellite image:</b>\n",
    "- <b>projection saved under 'PROJCRS>ID'</b>\n",
    "- <b>resolution saved under 'Pixel Size'</b>"
   ]
  },
  {
   "cell_type": "code",
   "execution_count": 3,
   "id": "9c35f4a3",
   "metadata": {},
   "outputs": [
    {
     "name": "stdout",
     "output_type": "stream",
     "text": [
      "Driver: VRT/Virtual Raster\n",
      "Files: datasets/final/intermediate.vrt\n",
      "       datasets/final/raw/S2/S2A_MSIL1C_20180912T103021_N0206_R108_T32UMV_20180912T143117.SAFE/GRANULE/L1C_T32UMV_A016836_20180912T103308/IMG_DATA/T32UMV_20180912T103021_B02.jp2\n",
      "       datasets/final/raw/S2/S2A_MSIL1C_20180912T103021_N0206_R108_T32UMV_20180912T143117.SAFE/GRANULE/L1C_T32UMV_A016836_20180912T103308/IMG_DATA/T32UMV_20180912T103021_B03.jp2\n",
      "       datasets/final/raw/S2/S2A_MSIL1C_20180912T103021_N0206_R108_T32UMV_20180912T143117.SAFE/GRANULE/L1C_T32UMV_A016836_20180912T103308/IMG_DATA/T32UMV_20180912T103021_B04.jp2\n",
      "       datasets/final/raw/S2/S2A_MSIL1C_20180912T103021_N0206_R108_T32UMV_20180912T143117.SAFE/GRANULE/L1C_T32UMV_A016836_20180912T103308/IMG_DATA/T32UMV_20180912T103021_B08.jp2\n",
      "Size is 10980, 10980\n",
      "Coordinate System is:\n",
      "PROJCRS[\"WGS 84 / UTM zone 32N\",\n",
      "    BASEGEOGCRS[\"WGS 84\",\n",
      "        DATUM[\"World Geodetic System 1984\",\n",
      "            ELLIPSOID[\"WGS 84\",6378137,298.257223563,\n",
      "                LENGTHUNIT[\"metre\",1]]],\n",
      "        PRIMEM[\"Greenwich\",0,\n",
      "            ANGLEUNIT[\"degree\",0.0174532925199433]],\n",
      "        ID[\"EPSG\",4326]],\n",
      "    CONVERSION[\"UTM zone 32N\",\n",
      "        METHOD[\"Transverse Mercator\",\n",
      "            ID[\"EPSG\",9807]],\n",
      "        PARAMETER[\"Latitude of natural origin\",0,\n",
      "            ANGLEUNIT[\"degree\",0.0174532925199433],\n",
      "            ID[\"EPSG\",8801]],\n",
      "        PARAMETER[\"Longitude of natural origin\",9,\n",
      "            ANGLEUNIT[\"degree\",0.0174532925199433],\n",
      "            ID[\"EPSG\",8802]],\n",
      "        PARAMETER[\"Scale factor at natural origin\",0.9996,\n",
      "            SCALEUNIT[\"unity\",1],\n",
      "            ID[\"EPSG\",8805]],\n",
      "        PARAMETER[\"False easting\",500000,\n",
      "            LENGTHUNIT[\"metre\",1],\n",
      "            ID[\"EPSG\",8806]],\n",
      "        PARAMETER[\"False northing\",0,\n",
      "            LENGTHUNIT[\"metre\",1],\n",
      "            ID[\"EPSG\",8807]]],\n",
      "    CS[Cartesian,2],\n",
      "        AXIS[\"easting\",east,\n",
      "            ORDER[1],\n",
      "            LENGTHUNIT[\"metre\",1]],\n",
      "        AXIS[\"northing\",north,\n",
      "            ORDER[2],\n",
      "            LENGTHUNIT[\"metre\",1]],\n",
      "    ID[\"EPSG\",32632]]\n",
      "Data axis to CRS axis mapping: 1,2\n",
      "Origin = (399960.000000000000000,5500020.000000000000000)\n",
      "Pixel Size = (10.000000000000000,-10.000000000000000)\n",
      "Corner Coordinates:\n",
      "Upper Left  (  399960.000, 5500020.000) (  7d36'51.38\"E, 49d38'39.95\"N)\n",
      "Lower Left  (  399960.000, 5390220.000) (  7d38'29.57\"E, 48d39'25.27\"N)\n",
      "Upper Right (  509760.000, 5500020.000) (  9d 8' 6.77\"E, 49d39' 9.52\"N)\n",
      "Lower Right (  509760.000, 5390220.000) (  9d 7'57.18\"E, 48d39'53.84\"N)\n",
      "Center      (  454860.000, 5445120.000) (  8d22'51.22\"E, 49d 9'26.06\"N)\n",
      "Band 1 Block=128x128 Type=UInt16, ColorInterp=Undefined\n",
      "  Overviews: 5490x5490, 2745x2745, 1373x1373, 687x687\n",
      "Band 2 Block=128x128 Type=UInt16, ColorInterp=Undefined\n",
      "  Overviews: 5490x5490, 2745x2745, 1373x1373, 687x687\n",
      "Band 3 Block=128x128 Type=UInt16, ColorInterp=Undefined\n",
      "  Overviews: 5490x5490, 2745x2745, 1373x1373, 687x687\n",
      "Band 4 Block=128x128 Type=UInt16, ColorInterp=Undefined\n",
      "  Overviews: 5490x5490, 2745x2745, 1373x1373, 687x687\n"
     ]
    }
   ],
   "source": [
    "%%bash\n",
    "\n",
    "gdalinfo datasets/final/intermediate.vrt"
   ]
  },
  {
   "cell_type": "markdown",
   "id": "38138439",
   "metadata": {},
   "source": [
    "<b><span style=\"color:red\">Step 3</span>: Rasterize the Urban Atlas annotations.</b>\n",
    "\n",
    "Special values that need to be adjusted:\n",
    "* -l: the name of the layer where data is stored in .gpkg file. Commonly has the same name as the folder without the trailing version info.\n",
    "* -tr: the resolution found in Step 2"
   ]
  },
  {
   "cell_type": "code",
   "execution_count": 4,
   "id": "874e4e3d",
   "metadata": {},
   "outputs": [
    {
     "name": "stdout",
     "output_type": "stream",
     "text": [
      "0...10...20...30...40...50...60...70...80...90...100 - done.\n"
     ]
    }
   ],
   "source": [
    "%%bash -s \"$city\"\n",
    "\n",
    "gdal_rasterize \\\n",
    "-a \"code_2018\" \\\n",
    "-l DE522L1_HEIDELBERG_UA2018 \\\n",
    "-of \"GTiff\" \\\n",
    "-a_nodata 0 \\\n",
    "-tr 10 10 \\\n",
    "-ot UInt16 \\\n",
    "datasets/final/raw/UA18/DE522L1_HEIDELBERG_UA2018_v013/Data/DE522L1_HEIDELBERG_UA2018_v013.gpkg \\\n",
    "datasets/final/annotations/\"$1\"_anno_orig.tif"
   ]
  },
  {
   "cell_type": "markdown",
   "id": "ea343771",
   "metadata": {},
   "source": [
    "<b>Step 4: Look up the projection of rasterized annotations under 'PROJCRS>ID'</b>"
   ]
  },
  {
   "cell_type": "code",
   "execution_count": 5,
   "id": "d3f29580",
   "metadata": {},
   "outputs": [
    {
     "name": "stdout",
     "output_type": "stream",
     "text": [
      "Driver: GTiff/GeoTIFF\n",
      "Files: datasets/final/annotations/heidelberg_anno_orig.tif\n",
      "Size is 4762, 5045\n",
      "Coordinate System is:\n",
      "PROJCRS[\"ETRS89-extended / LAEA Europe\",\n",
      "    BASEGEOGCRS[\"ETRS89\",\n",
      "        DATUM[\"European Terrestrial Reference System 1989\",\n",
      "            ELLIPSOID[\"GRS 1980\",6378137,298.257222101,\n",
      "                LENGTHUNIT[\"metre\",1]]],\n",
      "        PRIMEM[\"Greenwich\",0,\n",
      "            ANGLEUNIT[\"degree\",0.0174532925199433]],\n",
      "        ID[\"EPSG\",4258]],\n",
      "    CONVERSION[\"Europe Equal Area 2001\",\n",
      "        METHOD[\"Lambert Azimuthal Equal Area\",\n",
      "            ID[\"EPSG\",9820]],\n",
      "        PARAMETER[\"Latitude of natural origin\",52,\n",
      "            ANGLEUNIT[\"degree\",0.0174532925199433],\n",
      "            ID[\"EPSG\",8801]],\n",
      "        PARAMETER[\"Longitude of natural origin\",10,\n",
      "            ANGLEUNIT[\"degree\",0.0174532925199433],\n",
      "            ID[\"EPSG\",8802]],\n",
      "        PARAMETER[\"False easting\",4321000,\n",
      "            LENGTHUNIT[\"metre\",1],\n",
      "            ID[\"EPSG\",8806]],\n",
      "        PARAMETER[\"False northing\",3210000,\n",
      "            LENGTHUNIT[\"metre\",1],\n",
      "            ID[\"EPSG\",8807]]],\n",
      "    CS[Cartesian,2],\n",
      "        AXIS[\"northing (Y)\",north,\n",
      "            ORDER[1],\n",
      "            LENGTHUNIT[\"metre\",1]],\n",
      "        AXIS[\"easting (X)\",east,\n",
      "            ORDER[2],\n",
      "            LENGTHUNIT[\"metre\",1]],\n",
      "    USAGE[\n",
      "        SCOPE[\"Statistical analysis.\"],\n",
      "        AREA[\"Europe - European Union (EU) countries and candidates. Europe - onshore and offshore: Albania; Andorra; Austria; Belgium; Bosnia and Herzegovina; Bulgaria; Croatia; Cyprus; Czechia; Denmark; Estonia; Faroe Islands; Finland; France; Germany; Gibraltar; Greece; Hungary; Iceland; Ireland; Italy; Kosovo; Latvia; Liechtenstein; Lithuania; Luxembourg; Malta; Monaco; Montenegro; Netherlands; North Macedonia; Norway including Svalbard and Jan Mayen; Poland; Portugal including Madeira and Azores; Romania; San Marino; Serbia; Slovakia; Slovenia; Spain including Canary Islands; Sweden; Switzerland; Turkey; United Kingdom (UK) including Channel Islands and Isle of Man; Vatican City State.\"],\n",
      "        BBOX[24.6,-35.58,84.17,44.83]],\n",
      "    ID[\"EPSG\",3035]]\n",
      "Data axis to CRS axis mapping: 2,1\n",
      "Origin = (4208331.972599999979138,2946776.502100000157952)\n",
      "Pixel Size = (10.000000000000000,-10.000000000000000)\n",
      "Metadata:\n",
      "  AREA_OR_POINT=Area\n",
      "Image Structure Metadata:\n",
      "  INTERLEAVE=BAND\n",
      "Corner Coordinates:\n",
      "Upper Left  ( 4208331.973, 2946776.502) (  8d26'26.94\"E, 49d37'22.70\"N)\n",
      "Lower Left  ( 4208331.973, 2896326.502) (  8d27'18.86\"E, 49d10' 9.75\"N)\n",
      "Upper Right ( 4255951.973, 2946776.502) (  9d 5'59.05\"E, 49d37'48.49\"N)\n",
      "Lower Right ( 4255951.973, 2896326.502) (  9d 6'29.03\"E, 49d10'35.27\"N)\n",
      "Center      ( 4232141.973, 2921551.502) (  8d46'33.51\"E, 49d24' 0.81\"N)\n",
      "Band 1 Block=4762x1 Type=UInt16, ColorInterp=Gray\n",
      "  NoData Value=0\n"
     ]
    }
   ],
   "source": [
    "%%bash -s \"$city\"\n",
    "\n",
    "gdalinfo datasets/final/annotations/\"$1\"_anno_orig.tif"
   ]
  },
  {
   "cell_type": "markdown",
   "id": "5cf67490",
   "metadata": {},
   "source": [
    "<b><span style=\"color:red\">Step 5</span>: Reproject rasterized annotations to the projection of the sattelite image</b>\n",
    "\n",
    "Special values that need to be adjusted:\n",
    "* -s_srs: projection of the annotations found in Step 4\n",
    "* -t_srs: projection of the sattelite image found in Step 2\n",
    "* -tr: the resolution found in Step 2"
   ]
  },
  {
   "cell_type": "code",
   "execution_count": 6,
   "id": "65dce0f4",
   "metadata": {},
   "outputs": [
    {
     "name": "stdout",
     "output_type": "stream",
     "text": [
      "Creating output file that is 4826P x 5108L.\n",
      "Processing datasets/final/annotations/heidelberg_anno_orig.tif [1/1] : 0Using internal nodata values (e.g. 0) for image datasets/final/annotations/heidelberg_anno_orig.tif.\n",
      "Copying nodata values from source datasets/final/annotations/heidelberg_anno_orig.tif to destination datasets/final/annotations/heidelberg_anno.tif.\n",
      "...10...20...30...40...50...60...70...80...90...100 - done.\n"
     ]
    }
   ],
   "source": [
    "%%bash -s \"$city\"\n",
    "\n",
    "gdalwarp \\\n",
    "-s_srs EPSG:3035 \\\n",
    "-t_srs EPSG:32632 \\\n",
    "-tr 10 10 \\\n",
    "datasets/final/annotations/\"$1\"_anno_orig.tif \\\n",
    "datasets/final/annotations/\"$1\"_anno.tif"
   ]
  },
  {
   "cell_type": "markdown",
   "id": "53d20b8e",
   "metadata": {},
   "source": [
    "<b>Step 6: Look up the bounding box of the annotations from \"Upper Left\" and \"Lower Right\"</b>"
   ]
  },
  {
   "cell_type": "code",
   "execution_count": 7,
   "id": "95342ed4",
   "metadata": {},
   "outputs": [
    {
     "name": "stdout",
     "output_type": "stream",
     "text": [
      "Driver: GTiff/GeoTIFF\n",
      "Files: datasets/final/annotations/heidelberg_anno.tif\n",
      "Size is 4826, 5108\n",
      "Coordinate System is:\n",
      "PROJCRS[\"WGS 84 / UTM zone 32N\",\n",
      "    BASEGEOGCRS[\"WGS 84\",\n",
      "        DATUM[\"World Geodetic System 1984\",\n",
      "            ELLIPSOID[\"WGS 84\",6378137,298.257223563,\n",
      "                LENGTHUNIT[\"metre\",1]]],\n",
      "        PRIMEM[\"Greenwich\",0,\n",
      "            ANGLEUNIT[\"degree\",0.0174532925199433]],\n",
      "        ID[\"EPSG\",4326]],\n",
      "    CONVERSION[\"UTM zone 32N\",\n",
      "        METHOD[\"Transverse Mercator\",\n",
      "            ID[\"EPSG\",9807]],\n",
      "        PARAMETER[\"Latitude of natural origin\",0,\n",
      "            ANGLEUNIT[\"degree\",0.0174532925199433],\n",
      "            ID[\"EPSG\",8801]],\n",
      "        PARAMETER[\"Longitude of natural origin\",9,\n",
      "            ANGLEUNIT[\"degree\",0.0174532925199433],\n",
      "            ID[\"EPSG\",8802]],\n",
      "        PARAMETER[\"Scale factor at natural origin\",0.9996,\n",
      "            SCALEUNIT[\"unity\",1],\n",
      "            ID[\"EPSG\",8805]],\n",
      "        PARAMETER[\"False easting\",500000,\n",
      "            LENGTHUNIT[\"metre\",1],\n",
      "            ID[\"EPSG\",8806]],\n",
      "        PARAMETER[\"False northing\",0,\n",
      "            LENGTHUNIT[\"metre\",1],\n",
      "            ID[\"EPSG\",8807]]],\n",
      "    CS[Cartesian,2],\n",
      "        AXIS[\"(E)\",east,\n",
      "            ORDER[1],\n",
      "            LENGTHUNIT[\"metre\",1]],\n",
      "        AXIS[\"(N)\",north,\n",
      "            ORDER[2],\n",
      "            LENGTHUNIT[\"metre\",1]],\n",
      "    USAGE[\n",
      "        SCOPE[\"Engineering survey, topographic mapping.\"],\n",
      "        AREA[\"Between 6°E and 12°E, northern hemisphere between equator and 84°N, onshore and offshore. Algeria. Austria. Cameroon. Denmark. Equatorial Guinea. France. Gabon. Germany. Italy. Libya. Liechtenstein. Monaco. Netherlands. Niger. Nigeria. Norway. Sao Tome and Principe. Svalbard. Sweden. Switzerland. Tunisia. Vatican City State.\"],\n",
      "        BBOX[0,6,84,12]],\n",
      "    ID[\"EPSG\",32632]]\n",
      "Data axis to CRS axis mapping: 1,2\n",
      "Origin = (459612.549136455752887,5497513.658163246698678)\n",
      "Pixel Size = (10.000000000000000,-10.000000000000000)\n",
      "Metadata:\n",
      "  AREA_OR_POINT=Area\n",
      "Image Structure Metadata:\n",
      "  INTERLEAVE=BAND\n",
      "Corner Coordinates:\n",
      "Upper Left  (  459612.549, 5497513.658) (  8d26'26.70\"E, 49d37'43.78\"N)\n",
      "Lower Left  (  459612.549, 5446433.658) (  8d26'45.39\"E, 49d10' 9.79\"N)\n",
      "Upper Right (  507872.549, 5497513.658) (  9d 6'32.45\"E, 49d37'48.46\"N)\n",
      "Lower Right (  507872.549, 5446433.658) (  9d 6'28.81\"E, 49d10'14.39\"N)\n",
      "Center      (  483742.549, 5471973.658) (  8d46'33.34\"E, 49d24' 0.84\"N)\n",
      "Band 1 Block=4826x1 Type=UInt16, ColorInterp=Gray\n",
      "  NoData Value=0\n"
     ]
    }
   ],
   "source": [
    "%%bash -s \"$city\"\n",
    "\n",
    "gdalinfo \\\n",
    "datasets/final/annotations/\"$1\"_anno.tif"
   ]
  },
  {
   "cell_type": "markdown",
   "id": "bda87ec9",
   "metadata": {},
   "source": [
    "<b><span style=\"color:red\">Step 7</span>: Crop the satellite image to the annotated bounding box and save to file</b>\n",
    "\n",
    "Special values that need to be adjusted:\n",
    "* -te: the bounding box values extracted from Step 6 (\\<Upper Left [0]\\> \\<Lower Right [1]\\> \\<Lower Right [0]\\> \\<Upper Left [1]\\>)"
   ]
  },
  {
   "cell_type": "code",
   "execution_count": 8,
   "id": "2bcc01d9",
   "metadata": {
    "scrolled": true
   },
   "outputs": [
    {
     "name": "stdout",
     "output_type": "stream",
     "text": [
      "Creating output file that is 4826P x 5108L.\n",
      "Processing datasets/final/intermediate.vrt [1/1] : 0...10...20...30...40...50...60...70...80...90...100 - done.\n",
      "Input file size is 4826, 5108\n",
      "0...10...20...30...40...50...60...70...80...90...100 - done.\n"
     ]
    }
   ],
   "source": [
    "%%bash -s \"$city\"\n",
    "\n",
    "gdalwarp \\\n",
    "-te 459612.549 5446433.658 507872.549 5497513.658 \\\n",
    "datasets/final/intermediate.vrt \\\n",
    "datasets/final/intermediate_cropped.vrt\n",
    "\n",
    "gdal_translate \\\n",
    "datasets/final/intermediate_cropped.vrt \\\n",
    "datasets/final/images/\"$1\"_s2.tif"
   ]
  },
  {
   "cell_type": "markdown",
   "id": "c82df34a",
   "metadata": {},
   "source": [
    "#### Step 8: Delete intermediate files"
   ]
  },
  {
   "cell_type": "code",
   "execution_count": 9,
   "id": "18abf2d6",
   "metadata": {},
   "outputs": [],
   "source": [
    "%%bash -s \"$city\"\n",
    "rm -f datasets/final/annotations/\"$1\"_anno_orig.tif\n",
    "rm -f datasets/final/intermediate.vrt\n",
    "rm -f datasets/final/intermediate_cropped.vrt"
   ]
  },
  {
   "cell_type": "markdown",
   "id": "419b7fea",
   "metadata": {},
   "source": [
    "### <span style=\"color:red\">Optional: Multiple images</span>\n",
    "\n",
    "Sometimes we need multiple satellite images for one city. In that case, make multiple Sentinel-2 exports and repeat Steps 8, 1, 7 (in this order) for each exported image (don't forget to change output filename in Step 7 to \\_partX). After finishing, add all paths to the cell below and run it to obtain the final image."
   ]
  },
  {
   "cell_type": "code",
   "execution_count": 17,
   "id": "e5d633db",
   "metadata": {
    "collapsed": true
   },
   "outputs": [
    {
     "name": "stdout",
     "output_type": "stream",
     "text": [
      "0...10...20...30...40...50...60...70...80...90...100 - done.\n"
     ]
    }
   ],
   "source": [
    "%%bash -s \"$city\"\n",
    "\n",
    "gdal_merge.py \\\n",
    "-o datasets/final/images/\"$1\"_s2.tif \\\n",
    "-n 0 \\\n",
    "-a_nodata 0 \\\n",
    "datasets/final/images/\"$1\"_part1.tif \\\n",
    "datasets/final/images/\"$1\"_part2.tif \\\n",
    "datasets/final/images/\"$1\"_part3.tif"
   ]
  },
  {
   "cell_type": "markdown",
   "id": "87a0a7cd",
   "metadata": {},
   "source": [
    "### Rearrange the annotations into final 5 classes \n",
    "\n",
    "For our use-case, we are only interested in the Level 1 CORINE Land Cover (CLC) classes: \"Artificial areas\", \"Agricultural areas\", \"Forest and seminatural areas\", \"Wetlands\", \"Water bodies\"."
   ]
  },
  {
   "cell_type": "code",
   "execution_count": 10,
   "id": "7d2b4a2a",
   "metadata": {},
   "outputs": [],
   "source": [
    "from osgeo import gdal\n",
    "import numpy as np\n",
    "\n",
    "IN_PATH = f\"datasets/final/annotations/{city}_anno.tif\"\n",
    "OUT_PATH = f\"datasets/final/annotations/{city}_anno.tif\"\n",
    "\n",
    "ds = gdal.Open(IN_PATH)\n",
    "band = ds.GetRasterBand(1)\n",
    "labels = band.ReadAsArray()\n",
    "[rows, cols] = labels.shape\n",
    "\n",
    "clc_level1 = {\n",
    "    0: [0],\n",
    "    1: [11100, 11210, 11220, 11230, 11240, 11300, 12100, 12210,\n",
    "        12220, 12230, 12300, 12400, 13100, 13300, 13400, 14100, 14200],\n",
    "    2: [21000, 22000, 23000, 24000, 25000],\n",
    "    3: [31000, 32000, 33000],\n",
    "    4: [40000],\n",
    "    5: [50000]\n",
    "}\n",
    "\n",
    "for l1_label, codes in clc_level1.items():\n",
    "    labels = np.where(np.isin(labels, codes), l1_label, labels)\n",
    "\n",
    "driver = gdal.GetDriverByName(\"GTiff\")\n",
    "outdata = driver.Create(OUT_PATH, cols, rows, 1, gdal.GDT_UInt16)\n",
    "outdata.SetGeoTransform(ds.GetGeoTransform())\n",
    "outdata.SetProjection(ds.GetProjection())\n",
    "outdata.GetRasterBand(1).WriteArray(labels)\n",
    "outdata.GetRasterBand(1).SetNoDataValue(0)\n",
    "outdata.FlushCache()\n",
    "\n",
    "outdata = None\n",
    "band = None\n",
    "ds = None"
   ]
  },
  {
   "cell_type": "markdown",
   "id": "df900b48",
   "metadata": {},
   "source": [
    "### Optional: Extract segmentation preview"
   ]
  },
  {
   "cell_type": "code",
   "execution_count": 11,
   "id": "ad106dbf",
   "metadata": {},
   "outputs": [],
   "source": [
    "from PIL import Image\n",
    "from osgeo import gdal\n",
    "import numpy as np\n",
    "\n",
    "\n",
    "sentinel_data = gdal.Open(f\"datasets/final/images/{city}_s2.tif\")\n",
    "label_data = gdal.Open(f\"datasets/final/annotations/{city}_anno.tif\")\n",
    "\n",
    "b = sentinel_data.GetRasterBand(1).ReadAsArray()\n",
    "g = sentinel_data.GetRasterBand(2).ReadAsArray()\n",
    "r = sentinel_data.GetRasterBand(3).ReadAsArray()\n",
    "\n",
    "labels = label_data.GetRasterBand(1).ReadAsArray()\n",
    "labels = labels.astype(np.uint8)\n",
    "\n",
    "im = np.dstack([r,g,b])\n",
    "\n",
    "maxval = 3558\n",
    "im_truncated = np.where(im < maxval, im, maxval)\n",
    "\n",
    "im_normalized = (im_truncated - im_truncated.min()) / (im_truncated.max() - im_truncated.min())\n",
    "im_normalized = (im_normalized * 255).astype(np.uint8)\n",
    "\n",
    "labels_rgb = np.dstack([labels, labels, labels])\n",
    "\n",
    "labels_rgb[labels == 1] = [255,   0,   0]  # Artificial areas (RED)\n",
    "labels_rgb[labels == 2] = [255, 255,   0]  # Agriculture areas (YELLOW)\n",
    "labels_rgb[labels == 3] = [0  , 255,   0]  # Forest and semi-natural areas (GREEN)\n",
    "labels_rgb[labels == 4] = [0  , 255, 255]  # Wetlands (CYAN)\n",
    "labels_rgb[labels == 5] = [0  ,   0, 255]  # Water bodies (BLUE)\n",
    "\n",
    "im_normalized_pil = Image.fromarray(im_normalized)\n",
    "im_normalized_pil = im_normalized_pil.convert(\"RGBA\")\n",
    "\n",
    "labels_rgb_pil = Image.fromarray(labels_rgb)\n",
    "labels_rgb_pil = labels_rgb_pil.convert(\"RGBA\")\n",
    "\n",
    "segmented_im = Image.blend(\n",
    "    im_normalized_pil,\n",
    "    labels_rgb_pil,\n",
    "    0.2\n",
    ")\n",
    "\n",
    "segmented_im.save(f\"datasets/final/preview/{city}.png\", \"PNG\")"
   ]
  }
 ],
 "metadata": {
  "kernelspec": {
   "display_name": "Python 3 (ipykernel)",
   "language": "python",
   "name": "python3"
  },
  "language_info": {
   "codemirror_mode": {
    "name": "ipython",
    "version": 3
   },
   "file_extension": ".py",
   "mimetype": "text/x-python",
   "name": "python",
   "nbconvert_exporter": "python",
   "pygments_lexer": "ipython3",
   "version": "3.8.10"
  }
 },
 "nbformat": 4,
 "nbformat_minor": 5
}
