{
 "cells": [
  {
   "cell_type": "code",
   "execution_count": 1,
   "id": "8dbb296f",
   "metadata": {},
   "outputs": [],
   "source": [
    "from osgeo import gdal\n",
    "import numpy as np\n",
    "import pandas as pd"
   ]
  },
  {
   "cell_type": "code",
   "execution_count": 2,
   "id": "cc03fead",
   "metadata": {},
   "outputs": [],
   "source": [
    "cities = [\"darmstadt\", \"frankfurt_am_main\", \"freiburg_am_breisgau\", \"heidelberg\",\n",
    "          \"heilbronn\", \"karlsruhe\", \"mainz\", \"munchen\", \"stuttgart\", \"wurzburg\",\n",
    "          \"tubingen\"]\n",
    "\n",
    "classes = [\"artificial\", \"agricultural\", \"forest\", \"wetlands\", \"water\"]\n",
    "\n",
    "distr = np.zeros((len(cities), 6))\n",
    "\n",
    "for city_ix, city in enumerate(cities):\n",
    "    label_data = gdal.Open(f\"annotations/{city}_anno.tif\")\n",
    "    labels = label_data.GetRasterBand(1).ReadAsArray()\n",
    "    \n",
    "    for c in np.unique(labels):\n",
    "        count = np.count_nonzero(labels == c)\n",
    "        distr[city_ix, c] = count\n",
    "        \n",
    "    labels = None\n",
    "    label_data = None"
   ]
  },
  {
   "cell_type": "code",
   "execution_count": 3,
   "id": "e2fb3d2e",
   "metadata": {},
   "outputs": [
    {
     "name": "stdout",
     "output_type": "stream",
     "text": [
      "We are working with 243469334 annotated pixels in total.\n"
     ]
    }
   ],
   "source": [
    "distr_valid = distr[:, 1:]\n",
    "print(f\"We are working with {int(np.sum(distr_valid))} annotated pixels in total.\")"
   ]
  },
  {
   "cell_type": "code",
   "execution_count": 4,
   "id": "90f2526d",
   "metadata": {},
   "outputs": [
    {
     "data": {
      "text/html": [
       "<div>\n",
       "<style scoped>\n",
       "    .dataframe tbody tr th:only-of-type {\n",
       "        vertical-align: middle;\n",
       "    }\n",
       "\n",
       "    .dataframe tbody tr th {\n",
       "        vertical-align: top;\n",
       "    }\n",
       "\n",
       "    .dataframe thead th {\n",
       "        text-align: right;\n",
       "    }\n",
       "</style>\n",
       "<table border=\"1\" class=\"dataframe\">\n",
       "  <thead>\n",
       "    <tr style=\"text-align: right;\">\n",
       "      <th></th>\n",
       "      <th>artificial</th>\n",
       "      <th>agricultural</th>\n",
       "      <th>forest</th>\n",
       "      <th>wetlands</th>\n",
       "      <th>water</th>\n",
       "    </tr>\n",
       "  </thead>\n",
       "  <tbody>\n",
       "    <tr>\n",
       "      <th>darmstadt</th>\n",
       "      <td>0.194228</td>\n",
       "      <td>0.411061</td>\n",
       "      <td>0.390510</td>\n",
       "      <td>0.000986</td>\n",
       "      <td>0.003216</td>\n",
       "    </tr>\n",
       "    <tr>\n",
       "      <th>frankfurt_am_main</th>\n",
       "      <td>0.201085</td>\n",
       "      <td>0.404456</td>\n",
       "      <td>0.386140</td>\n",
       "      <td>0.000187</td>\n",
       "      <td>0.008133</td>\n",
       "    </tr>\n",
       "    <tr>\n",
       "      <th>freiburg_am_breisgau</th>\n",
       "      <td>0.114357</td>\n",
       "      <td>0.395892</td>\n",
       "      <td>0.481119</td>\n",
       "      <td>0.000017</td>\n",
       "      <td>0.008615</td>\n",
       "    </tr>\n",
       "    <tr>\n",
       "      <th>heidelberg</th>\n",
       "      <td>0.190998</td>\n",
       "      <td>0.401007</td>\n",
       "      <td>0.397539</td>\n",
       "      <td>0.000051</td>\n",
       "      <td>0.010405</td>\n",
       "    </tr>\n",
       "    <tr>\n",
       "      <th>heilbronn</th>\n",
       "      <td>0.163132</td>\n",
       "      <td>0.561319</td>\n",
       "      <td>0.269775</td>\n",
       "      <td>0.000060</td>\n",
       "      <td>0.005715</td>\n",
       "    </tr>\n",
       "    <tr>\n",
       "      <th>karlsruhe</th>\n",
       "      <td>0.213525</td>\n",
       "      <td>0.409267</td>\n",
       "      <td>0.353717</td>\n",
       "      <td>0.000662</td>\n",
       "      <td>0.022830</td>\n",
       "    </tr>\n",
       "    <tr>\n",
       "      <th>mainz</th>\n",
       "      <td>0.201067</td>\n",
       "      <td>0.626139</td>\n",
       "      <td>0.146821</td>\n",
       "      <td>0.000041</td>\n",
       "      <td>0.025933</td>\n",
       "    </tr>\n",
       "    <tr>\n",
       "      <th>munchen</th>\n",
       "      <td>0.177855</td>\n",
       "      <td>0.517892</td>\n",
       "      <td>0.274555</td>\n",
       "      <td>0.000287</td>\n",
       "      <td>0.029411</td>\n",
       "    </tr>\n",
       "    <tr>\n",
       "      <th>stuttgart</th>\n",
       "      <td>0.227683</td>\n",
       "      <td>0.438433</td>\n",
       "      <td>0.330316</td>\n",
       "      <td>0.000004</td>\n",
       "      <td>0.003564</td>\n",
       "    </tr>\n",
       "    <tr>\n",
       "      <th>wurzburg</th>\n",
       "      <td>0.101241</td>\n",
       "      <td>0.509589</td>\n",
       "      <td>0.381665</td>\n",
       "      <td>0.000064</td>\n",
       "      <td>0.007441</td>\n",
       "    </tr>\n",
       "    <tr>\n",
       "      <th>tubingen</th>\n",
       "      <td>0.145627</td>\n",
       "      <td>0.470937</td>\n",
       "      <td>0.378820</td>\n",
       "      <td>0.000000</td>\n",
       "      <td>0.004616</td>\n",
       "    </tr>\n",
       "  </tbody>\n",
       "</table>\n",
       "</div>"
      ],
      "text/plain": [
       "                      artificial  agricultural    forest  wetlands     water\n",
       "darmstadt               0.194228      0.411061  0.390510  0.000986  0.003216\n",
       "frankfurt_am_main       0.201085      0.404456  0.386140  0.000187  0.008133\n",
       "freiburg_am_breisgau    0.114357      0.395892  0.481119  0.000017  0.008615\n",
       "heidelberg              0.190998      0.401007  0.397539  0.000051  0.010405\n",
       "heilbronn               0.163132      0.561319  0.269775  0.000060  0.005715\n",
       "karlsruhe               0.213525      0.409267  0.353717  0.000662  0.022830\n",
       "mainz                   0.201067      0.626139  0.146821  0.000041  0.025933\n",
       "munchen                 0.177855      0.517892  0.274555  0.000287  0.029411\n",
       "stuttgart               0.227683      0.438433  0.330316  0.000004  0.003564\n",
       "wurzburg                0.101241      0.509589  0.381665  0.000064  0.007441\n",
       "tubingen                0.145627      0.470937  0.378820  0.000000  0.004616"
      ]
     },
     "metadata": {},
     "output_type": "display_data"
    }
   ],
   "source": [
    "df = pd.DataFrame(data=distr_valid,\n",
    "                  index=cities,\n",
    "                  columns=classes)\n",
    "\n",
    "df[\"total\"] = df.sum(axis=1)\n",
    "\n",
    "display(df[classes].div(df.total, axis=0))"
   ]
  },
  {
   "cell_type": "code",
   "execution_count": 5,
   "id": "ef3e1dba",
   "metadata": {},
   "outputs": [],
   "source": [
    "def compute_distribution(test_cities, all_cities, index):\n",
    "    train_cities = all_cities - test_cities\n",
    "    train_cities = list(train_cities)\n",
    "    test_cities = list(test_cities)\n",
    "\n",
    "    df_sub = df.loc[[*train_cities, *test_cities]]\n",
    "    \n",
    "    train_distr = df_sub.loc[train_cities].sum(axis=0) / df_sub.loc[train_cities].sum(axis=0).total\n",
    "    test_distr = df_sub.loc[test_cities].sum(axis=0) / df_sub.loc[test_cities].sum(axis=0).total\n",
    "\n",
    "    df_distr = pd.DataFrame(data=[train_distr, test_distr],\n",
    "                            index=index)\n",
    "    df_distr[\"dataset_percentage\"] = [\n",
    "        df_sub.loc[train_cities, \"total\"].values.sum() / df_sub.total.sum(),\n",
    "        df_sub.loc[test_cities, \"total\"].values.sum() / df_sub.total.sum()\n",
    "    ]\n",
    "    \n",
    "    return df_distr"
   ]
  },
  {
   "cell_type": "code",
   "execution_count": 6,
   "id": "97537688",
   "metadata": {},
   "outputs": [
    {
     "data": {
      "text/html": [
       "<div>\n",
       "<style scoped>\n",
       "    .dataframe tbody tr th:only-of-type {\n",
       "        vertical-align: middle;\n",
       "    }\n",
       "\n",
       "    .dataframe tbody tr th {\n",
       "        vertical-align: top;\n",
       "    }\n",
       "\n",
       "    .dataframe thead th {\n",
       "        text-align: right;\n",
       "    }\n",
       "</style>\n",
       "<table border=\"1\" class=\"dataframe\">\n",
       "  <thead>\n",
       "    <tr style=\"text-align: right;\">\n",
       "      <th></th>\n",
       "      <th>artificial</th>\n",
       "      <th>agricultural</th>\n",
       "      <th>forest</th>\n",
       "      <th>wetlands</th>\n",
       "      <th>water</th>\n",
       "      <th>total</th>\n",
       "      <th>dataset_percentage</th>\n",
       "    </tr>\n",
       "  </thead>\n",
       "  <tbody>\n",
       "    <tr>\n",
       "      <th>train-val</th>\n",
       "      <td>0.169743</td>\n",
       "      <td>0.480738</td>\n",
       "      <td>0.334751</td>\n",
       "      <td>0.000187</td>\n",
       "      <td>0.014580</td>\n",
       "      <td>1.0</td>\n",
       "      <td>0.775391</td>\n",
       "    </tr>\n",
       "    <tr>\n",
       "      <th>test</th>\n",
       "      <td>0.198929</td>\n",
       "      <td>0.403718</td>\n",
       "      <td>0.388577</td>\n",
       "      <td>0.000158</td>\n",
       "      <td>0.008619</td>\n",
       "      <td>1.0</td>\n",
       "      <td>0.224609</td>\n",
       "    </tr>\n",
       "  </tbody>\n",
       "</table>\n",
       "</div>"
      ],
      "text/plain": [
       "           artificial  agricultural    forest  wetlands     water  total  \\\n",
       "train-val    0.169743      0.480738  0.334751  0.000187  0.014580    1.0   \n",
       "test         0.198929      0.403718  0.388577  0.000158  0.008619    1.0   \n",
       "\n",
       "           dataset_percentage  \n",
       "train-val            0.775391  \n",
       "test                 0.224609  "
      ]
     },
     "metadata": {},
     "output_type": "display_data"
    }
   ],
   "source": [
    "df_distr = compute_distribution(\n",
    "    set([\"heidelberg\", \"frankfurt_am_main\"]),  # Test cities\n",
    "    set(cities),\n",
    "    [\"train-val\", \"test\"]\n",
    ")\n",
    "\n",
    "display(df_distr)"
   ]
  },
  {
   "cell_type": "markdown",
   "id": "58097c87",
   "metadata": {},
   "source": [
    "other lucrative options: [\"heidelberg\", \"freiburg_am_breisgau\", \"mainz\", \"darmstadt\"]"
   ]
  },
  {
   "cell_type": "markdown",
   "id": "58fb4233",
   "metadata": {},
   "source": [
    "Suppose we decided to use Heidelberg and Frankfurt am Main as our test set. Let's split the train set into train and validation now"
   ]
  },
  {
   "cell_type": "code",
   "execution_count": 7,
   "id": "e4efbcc5",
   "metadata": {},
   "outputs": [],
   "source": [
    "test_cities = [\"heidelberg\", \"frankfurt_am_main\"]"
   ]
  },
  {
   "cell_type": "code",
   "execution_count": 8,
   "id": "ba7ac821",
   "metadata": {},
   "outputs": [
    {
     "data": {
      "text/html": [
       "<div>\n",
       "<style scoped>\n",
       "    .dataframe tbody tr th:only-of-type {\n",
       "        vertical-align: middle;\n",
       "    }\n",
       "\n",
       "    .dataframe tbody tr th {\n",
       "        vertical-align: top;\n",
       "    }\n",
       "\n",
       "    .dataframe thead th {\n",
       "        text-align: right;\n",
       "    }\n",
       "</style>\n",
       "<table border=\"1\" class=\"dataframe\">\n",
       "  <thead>\n",
       "    <tr style=\"text-align: right;\">\n",
       "      <th></th>\n",
       "      <th>artificial</th>\n",
       "      <th>agricultural</th>\n",
       "      <th>forest</th>\n",
       "      <th>wetlands</th>\n",
       "      <th>water</th>\n",
       "      <th>total</th>\n",
       "      <th>dataset_percentage</th>\n",
       "    </tr>\n",
       "  </thead>\n",
       "  <tbody>\n",
       "    <tr>\n",
       "      <th>train</th>\n",
       "      <td>0.175095</td>\n",
       "      <td>0.489940</td>\n",
       "      <td>0.319281</td>\n",
       "      <td>0.000177</td>\n",
       "      <td>0.015507</td>\n",
       "      <td>1.0</td>\n",
       "      <td>0.804358</td>\n",
       "    </tr>\n",
       "    <tr>\n",
       "      <th>val</th>\n",
       "      <td>0.147742</td>\n",
       "      <td>0.442907</td>\n",
       "      <td>0.398357</td>\n",
       "      <td>0.000226</td>\n",
       "      <td>0.010768</td>\n",
       "      <td>1.0</td>\n",
       "      <td>0.195642</td>\n",
       "    </tr>\n",
       "  </tbody>\n",
       "</table>\n",
       "</div>"
      ],
      "text/plain": [
       "       artificial  agricultural    forest  wetlands     water  total  \\\n",
       "train    0.175095      0.489940  0.319281  0.000177  0.015507    1.0   \n",
       "val      0.147742      0.442907  0.398357  0.000226  0.010768    1.0   \n",
       "\n",
       "       dataset_percentage  \n",
       "train            0.804358  \n",
       "val              0.195642  "
      ]
     },
     "metadata": {},
     "output_type": "display_data"
    }
   ],
   "source": [
    "df_distr = compute_distribution(\n",
    "    set([\"freiburg_am_breisgau\", \"darmstadt\", \"mainz\"]),  # Validation cities\n",
    "    set(cities) - set(test_cities),  # Train-val cities \n",
    "    [\"train\", \"val\"]\n",
    ")\n",
    "\n",
    "display(df_distr)"
   ]
  },
  {
   "cell_type": "markdown",
   "id": "d92f4a9e",
   "metadata": {},
   "source": [
    "Other lucrative options: [\"freiburg_am_breisgau\", \"karlsruhe\"]"
   ]
  },
  {
   "cell_type": "markdown",
   "id": "3fb63798",
   "metadata": {},
   "source": [
    "Let's choose Freiburg am Breisgau, Darmstadt, and Mainz as the validation set, such that we have one bigger city in each subset."
   ]
  },
  {
   "cell_type": "code",
   "execution_count": 9,
   "id": "15b08a73",
   "metadata": {},
   "outputs": [],
   "source": [
    "validation_cities = [\"freiburg_am_breisgau\", \"darmstadt\", \"mainz\"]"
   ]
  },
  {
   "cell_type": "markdown",
   "id": "c2500cdf",
   "metadata": {},
   "source": [
    "Remainder are train cities"
   ]
  },
  {
   "cell_type": "code",
   "execution_count": 10,
   "id": "7f1f2d89",
   "metadata": {},
   "outputs": [
    {
     "data": {
      "text/plain": [
       "['karlsruhe', 'stuttgart', 'tubingen', 'munchen', 'wurzburg', 'heilbronn']"
      ]
     },
     "metadata": {},
     "output_type": "display_data"
    }
   ],
   "source": [
    "train_cities = list(set(cities) - set(test_cities) - set(validation_cities))\n",
    "display(train_cities)"
   ]
  },
  {
   "cell_type": "markdown",
   "id": "6b364404",
   "metadata": {},
   "source": [
    "Final distribution:\n",
    "* Train cities (62.37%): Karlsruhe, Munich, Stuttgart, Würzburg, Heilbronn, Tübingen\n",
    "* Validation cities (15.17%): Freiburg am Breisgau, Darmstadt, Mainz\n",
    "* Test cities (22.46%): Heidelberg, Frankfurt am Main"
   ]
  }
 ],
 "metadata": {
  "kernelspec": {
   "display_name": "Python 3 (ipykernel)",
   "language": "python",
   "name": "python3"
  },
  "language_info": {
   "codemirror_mode": {
    "name": "ipython",
    "version": 3
   },
   "file_extension": ".py",
   "mimetype": "text/x-python",
   "name": "python",
   "nbconvert_exporter": "python",
   "pygments_lexer": "ipython3",
   "version": "3.8.10"
  }
 },
 "nbformat": 4,
 "nbformat_minor": 5
}
