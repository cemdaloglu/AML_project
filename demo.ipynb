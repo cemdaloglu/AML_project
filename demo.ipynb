{
 "cells": [
  {
   "cell_type": "code",
   "execution_count": 2,
   "metadata": {},
   "outputs": [
    {
     "ename": "IndentationError",
     "evalue": "unexpected indent (1138668882.py, line 4)",
     "output_type": "error",
     "traceback": [
      "\u001b[0;36m  Input \u001b[0;32mIn [2]\u001b[0;36m\u001b[0m\n\u001b[0;31m    --vertical_intersection 0\u001b[0m\n\u001b[0m    ^\u001b[0m\n\u001b[0;31mIndentationError\u001b[0m\u001b[0;31m:\u001b[0m unexpected indent\n"
     ]
    }
   ],
   "source": [
    "pth = \"/Volumes/TOSHIBA EXT/Studium/Uni Heidelberg/3. Semester/AML-project/final/L2A\"\n",
    "\n",
    "!python userfunctions/preprocess_data.py \\\n",
    "    --path $pth \\\n",
    "    --hpatchsize 256 \\\n",
    "    --wpatchsize 256 \\\n",
    "    --padding False \\\n",
    "    --horizontal_intersection 0 \\ \n",
    "    --vertical_intersection 0\n",
    "    \n",
    "\n"
   ]
  },
  {
   "cell_type": "code",
   "execution_count": null,
   "metadata": {},
   "outputs": [],
   "source": [
    "!python userfunctions/preprocess_data.py \\\n",
    "    --path path \\\n",
    "    --hpatchsize 256 \\\n",
    "    --wpatchsize 256 \\\n",
    "    --padding False \\\n",
    "    --horizontal_intersection=0 \\\n",
    "    --vertical_intersection=0"
   ]
  }
 ],
 "metadata": {
  "interpreter": {
   "hash": "eebac9ccc3366557ce1717798129785817109ad96c908d77f13418b21bdcb282"
  },
  "kernelspec": {
   "display_name": "Python 3.9.7 ('AML')",
   "language": "python",
   "name": "python3"
  },
  "language_info": {
   "codemirror_mode": {
    "name": "ipython",
    "version": 3
   },
   "file_extension": ".py",
   "mimetype": "text/x-python",
   "name": "python",
   "nbconvert_exporter": "python",
   "pygments_lexer": "ipython3",
   "version": "3.9.7"
  },
  "orig_nbformat": 4
 },
 "nbformat": 4,
 "nbformat_minor": 2
}
