{
 "cells": [
  {
   "cell_type": "markdown",
   "metadata": {},
   "source": [
    "## Read in an patch data as follows:"
   ]
  },
  {
   "cell_type": "code",
   "execution_count": 3,
   "metadata": {},
   "outputs": [
    {
     "name": "stdout",
     "output_type": "stream",
     "text": [
      "Traceback (most recent call last):\n",
      "  File \"/Users/liaschmid/Documents/Uni Heidelberg/3. Semester/AML/AML_project/userfunctions/preprocess_data.py\", line 7, in <module>\n",
      "    from src.data.data_preprocessing import  cropped_set_interseks_img_mask\n",
      "ModuleNotFoundError: No module named 'src'\n"
     ]
    }
   ],
   "source": [
    "myFolder = \"/media/lia/TOSHIBA EXT/Studium/Uni Heidelberg/3. Semester/AML-project/final/L2A/\"\n",
    "\n",
    "\n",
    "!python userfunctions/preprocess_data.py \\\n",
    "    --path \"$myFolder\" \\\n",
    "    --hpatchsize 128 \\\n",
    "    --wpatchsize 128 \\\n",
    "    --padding False \\\n",
    "    --horizontal_intersection 0 \\\n",
    "    --vertical_intersection 0 \\\n",
    "    --path_output \"$myFolder\" \n"
   ]
  },
  {
   "cell_type": "code",
   "execution_count": 5,
   "metadata": {},
   "outputs": [
    {
     "name": "stdout",
     "output_type": "stream",
     "text": [
      "Reading and Patching data\n",
      "\n",
      "    path = /Volumes/TOSHIBA EXT/Studium/Uni Heidelberg/3. Semester/AML-project/final/L2A/,\n",
      "    path_output = /Volumes/TOSHIBA EXT/Studium/Uni Heidelberg/3. Semester/AML-project/final/L2A/, \n",
      "    hpatchsize = 128\n",
      "    wpatchsize =  128,\n",
      "    padding =  False, \n",
      "    horizontal_intersection = 0, \n",
      "    vertical_intersection = 0, \n",
      "    thresh = 6000, \n",
      "    use_infra = True\n",
      "    \n",
      "Reading file 1/6 : /Volumes/TOSHIBA EXT/Studium/Uni Heidelberg/3. Semester/AML-project/final/L2A/images/heilbronn_s2.tif\n",
      "Creating patches...\n",
      "Reading file 2/6 : /Volumes/TOSHIBA EXT/Studium/Uni Heidelberg/3. Semester/AML-project/final/L2A/images/karlsruhe_s2.tif\n",
      "Creating patches...\n",
      "Reading file 3/6 : /Volumes/TOSHIBA EXT/Studium/Uni Heidelberg/3. Semester/AML-project/final/L2A/images/munchen_s2.tif\n",
      "Creating patches...\n",
      "Reading file 4/6 : /Volumes/TOSHIBA EXT/Studium/Uni Heidelberg/3. Semester/AML-project/final/L2A/images/stuttgart_s2.tif\n",
      "Creating patches...\n",
      "Reading file 5/6 : /Volumes/TOSHIBA EXT/Studium/Uni Heidelberg/3. Semester/AML-project/final/L2A/images/tubingen_s2.tif\n",
      "Creating patches...\n",
      "Reading file 6/6 : /Volumes/TOSHIBA EXT/Studium/Uni Heidelberg/3. Semester/AML-project/final/L2A/images/wurzburg_s2.tif\n",
      "Creating patches...\n",
      "Reading file 1/3 : /Volumes/TOSHIBA EXT/Studium/Uni Heidelberg/3. Semester/AML-project/final/L2A/images/darmstadt_s2.tif\n",
      "Creating patches...\n",
      "Reading file 2/3 : /Volumes/TOSHIBA EXT/Studium/Uni Heidelberg/3. Semester/AML-project/final/L2A/images/freiburg_am_breisgau_s2.tif\n",
      "Creating patches...\n",
      "Reading file 3/3 : /Volumes/TOSHIBA EXT/Studium/Uni Heidelberg/3. Semester/AML-project/final/L2A/images/mainz_s2.tif\n",
      "Creating patches...\n",
      "Reading file 1/2 : /Volumes/TOSHIBA EXT/Studium/Uni Heidelberg/3. Semester/AML-project/final/L2A/images/frankfurt_am_main_s2.tif\n",
      "Creating patches...\n",
      "Reading file 2/2 : /Volumes/TOSHIBA EXT/Studium/Uni Heidelberg/3. Semester/AML-project/final/L2A/images/heidelberg_s2.tif\n",
      "Creating patches...\n"
     ]
    }
   ],
   "source": [
    "myFolder = \"/Volumes/TOSHIBA EXT/Studium/Uni Heidelberg/3. Semester/AML-project/final/L2A/\"\n",
    "\n",
    "!python -m userfunctions.preprocess_data \\\n",
    "    --path \"$myFolder\" \\\n",
    "    --hpatchsize 128 \\\n",
    "    --wpatchsize 128 \\\n",
    "    --padding False \\\n",
    "    --horizontal_intersection 0 \\\n",
    "    --vertical_intersection 0 \\\n",
    "    --path_output \"$myFolder\" \n"
   ]
  },
  {
   "cell_type": "code",
   "execution_count": 1,
   "metadata": {},
   "outputs": [
    {
     "name": "stdout",
     "output_type": "stream",
     "text": [
      "Reading and Patching data\n",
      "\n",
      "    results_folder = src/results/,\n",
      "    model_name = unet_CEL_lr001_hflip_vflip03_wd01,\n",
      "    save_path = /Users/liaschmid/Documents/Uni Heidelberg/3. Semester/AML/AML_project/img_groundtruth_pred\n",
      "    \n",
      "saving prediction to /Users/liaschmid/Documents/Uni Heidelberg/3. Semester/AML/AML_project/img_groundtruth_pred/unet_CEL_lr001_hflip_vflip03_wd01\n"
     ]
    }
   ],
   "source": [
    "!python -m userfunctions.predict_entire_city \\\n",
    "    --results_folder \"src/results/\" \\\n",
    "    --model_name \"unet_CEL_lr001_hflip_vflip03_wd01\" \\\n",
    "    --save_path \"/Users/liaschmid/Documents/Uni Heidelberg/3. Semester/AML/AML_project/img_groundtruth_pred\" "
   ]
  },
  {
   "cell_type": "code",
   "execution_count": 10,
   "metadata": {},
   "outputs": [
    {
     "name": "stdout",
     "output_type": "stream",
     "text": [
      "Using cuda? True\n",
      "Retrain model from scratch\n",
      "train_data path =  patches/train\n",
      "Epoch 1/3\n",
      "----------\n",
      "100%|█████████████████████████████████████████| 677/677 [06:23<00:00,  1.76it/s]\n",
      "Epoch : 1, train accuracy : 0.0007093984168022871, train loss : 1.5649868249893188\n",
      "epoch_loss =  tensor(0.0006, device='cuda:0', grad_fn=<DivBackward0>)\n",
      "100%|█████████████████████████████████████████| 175/175 [00:32<00:00,  5.31it/s]\n",
      "Epoch : 1, train accuracy : 0.0032412938307970762, train loss : 1.482774019241333\n",
      "epoch_loss =  tensor(0.0021, device='cuda:0')\n",
      "saving best model to src/results/first_try/training_checkpoints/current_best.pth\n",
      "6m 58s\n",
      "Epoch 2/3\n",
      "----------\n",
      "100%|█████████████████████████████████████████| 677/677 [06:24<00:00,  1.76it/s]\n",
      "Epoch : 2, train accuracy : 0.0008945324225351214, train loss : 1.4405797719955444\n",
      "epoch_loss =  tensor(0.0005, device='cuda:0', grad_fn=<DivBackward0>)\n",
      "100%|█████████████████████████████████████████| 175/175 [00:31<00:00,  5.58it/s]\n",
      "Epoch : 2, train accuracy : 0.003083408810198307, train loss : 1.5119285583496094\n",
      "epoch_loss =  tensor(0.0021, device='cuda:0')\n",
      "6m 56s\n",
      "Epoch 3/3\n",
      "----------\n",
      "100%|█████████████████████████████████████████| 677/677 [06:20<00:00,  1.78it/s]\n",
      "Epoch : 3, train accuracy : 0.0009991689585149288, train loss : 1.3728195428848267\n",
      "epoch_loss =  tensor(0.0005, device='cuda:0', grad_fn=<DivBackward0>)\n",
      "100%|█████████████████████████████████████████| 175/175 [00:32<00:00,  5.40it/s]\n",
      "Epoch : 3, train accuracy : 0.0022512162104249, train loss : 1.655015468597412\n",
      "epoch_loss =  tensor(0.0024, device='cuda:0')\n",
      "6m 53s\n",
      "Best val loss: 0.002106\n",
      "Traceback (most recent call last):\n",
      "  File \"userfunctions/train.py\", line 110, in <module>\n",
      "    train_model(model = model, dataloaders = dataloaders, use_cuda = use_cuda, optimizer = optimizer, num_epochs = args.epochs,\n",
      "  File \"/home/lia/Documents/Uni Heidelberg/3. Semester/AML_project/src/training/train_model.py\", line 87, in train_model\n",
      "    plot_training(total_loss, total_acc)\n",
      "  File \"/home/lia/Documents/Uni Heidelberg/3. Semester/AML_project/src/helpers/visualize.py\", line 61, in plot_training\n",
      "    plt.plot(total_loss_train, color='blue')\n",
      "  File \"/home/lia/anaconda3/envs/AML/lib/python3.8/site-packages/matplotlib/_api/__init__.py\", line 222, in __getattr__\n",
      "    raise AttributeError(\n",
      "AttributeError: module 'matplotlib' has no attribute 'plot'\n"
     ]
    }
   ],
   "source": [
    "modelname = \"first_try\"\n",
    "\n",
    "!python userfunctions/train.py\\\n",
    "    --name \"$modelname\"\\\n",
    "    --train_test_path \"patches\"\\\n",
    "    --model \"unet\" \\\n",
    "    --loss_criterion \"wCEL\" \\\n",
    "    --epochs 3 \\\n",
    "    --batch_size 4"
   ]
  }
 ],
 "metadata": {
  "kernelspec": {
   "display_name": "Python 3.8.12 ('AML')",
   "language": "python",
   "name": "python3"
  },
  "language_info": {
   "codemirror_mode": {
    "name": "ipython",
    "version": 3
   },
   "file_extension": ".py",
   "mimetype": "text/x-python",
   "name": "python",
   "nbconvert_exporter": "python",
   "pygments_lexer": "ipython3",
   "version": "3.9.7"
  },
  "orig_nbformat": 4,
  "vscode": {
   "interpreter": {
    "hash": "51333e58befe23547b52dc9c29e81a66ebaee684106881b588cc4a4c2ce598a7"
   }
  }
 },
 "nbformat": 4,
 "nbformat_minor": 2
}
