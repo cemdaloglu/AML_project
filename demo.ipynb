{
 "cells": [
  {
   "cell_type": "markdown",
   "metadata": {},
   "source": [
    "## Read in an patch data as follows:"
   ]
  },
  {
   "cell_type": "code",
   "execution_count": 52,
   "metadata": {},
   "outputs": [
    {
     "name": "stdout",
     "output_type": "stream",
     "text": [
      "Reading and Patching data\n",
      "\n",
      "    path = /media/lia/TOSHIBA EXT/Studium/Uni Heidelberg/3. Semester/AML-project/final/L2A/,\n",
      "    path_output = ../AML_project, \n",
      "    hpatchsize = 256\n",
      "    wpatchsize =  256,\n",
      "    padding =  False, \n",
      "    horizontal_intersection = 0, \n",
      "    vertical_intersection = 0, \n",
      "    thresh = 3558, \n",
      "    use_infra = True\n",
      "    \n",
      "../AML_project/patches/train/images\n",
      "Reading file 1/6 : /media/lia/TOSHIBA EXT/Studium/Uni Heidelberg/3. Semester/AML-project/final/L2A/images/heilbronn_s2.tif\n",
      "Creating patches...\n",
      "Reading file 2/6 : /media/lia/TOSHIBA EXT/Studium/Uni Heidelberg/3. Semester/AML-project/final/L2A/images/karlsruhe_s2.tif\n",
      "Creating patches...\n",
      "Reading file 3/6 : /media/lia/TOSHIBA EXT/Studium/Uni Heidelberg/3. Semester/AML-project/final/L2A/images/munchen_s2.tif\n",
      "Creating patches...\n",
      "Reading file 4/6 : /media/lia/TOSHIBA EXT/Studium/Uni Heidelberg/3. Semester/AML-project/final/L2A/images/stuttgart_s2.tif\n",
      "Creating patches...\n",
      "Reading file 5/6 : /media/lia/TOSHIBA EXT/Studium/Uni Heidelberg/3. Semester/AML-project/final/L2A/images/tubingen_s2.tif\n",
      "Creating patches...\n",
      "Reading file 6/6 : /media/lia/TOSHIBA EXT/Studium/Uni Heidelberg/3. Semester/AML-project/final/L2A/images/wurzburg_s2.tif\n",
      "Creating patches...\n",
      "../AML_project/patches/val/images\n",
      "Reading file 1/3 : /media/lia/TOSHIBA EXT/Studium/Uni Heidelberg/3. Semester/AML-project/final/L2A/images/darmstadt_s2.tif\n",
      "Creating patches...\n",
      "Reading file 2/3 : /media/lia/TOSHIBA EXT/Studium/Uni Heidelberg/3. Semester/AML-project/final/L2A/images/freiburg_am_breisgau_s2.tif\n",
      "Creating patches...\n",
      "Reading file 3/3 : /media/lia/TOSHIBA EXT/Studium/Uni Heidelberg/3. Semester/AML-project/final/L2A/images/mainz_s2.tif\n",
      "Creating patches...\n",
      "../AML_project/patches/test/images\n",
      "Reading file 1/2 : /media/lia/TOSHIBA EXT/Studium/Uni Heidelberg/3. Semester/AML-project/final/L2A/images/frankfurt_am_main_s2.tif\n",
      "Creating patches...\n",
      "Reading file 2/2 : /media/lia/TOSHIBA EXT/Studium/Uni Heidelberg/3. Semester/AML-project/final/L2A/images/heidelberg_s2.tif\n",
      "Creating patches...\n"
     ]
    }
   ],
   "source": [
    "myFolder = \"/media/lia/TOSHIBA EXT/Studium/Uni Heidelberg/3. Semester/AML-project/final/L2A/\"\n",
    "\n",
    "\n",
    "!python userfunctions/preprocess_data.py \\\n",
    "    --path \"$myFolder\" \\\n",
    "    --hpatchsize 256 \\\n",
    "    --wpatchsize 256 \\\n",
    "    --padding False \\\n",
    "    --horizontal_intersection 0 \\\n",
    "    --vertical_intersection 0 #\\\n",
    "    #--path_output \"$myFolder\" \n"
   ]
  },
  {
   "cell_type": "code",
   "execution_count": null,
   "metadata": {},
   "outputs": [],
   "source": [
    "modelname = \"first_try\"\n",
    "\n",
    "\n",
    "!python userfunctions/train.py \\\n",
    "    --name \"$modelname\" \\\n",
    "    --train_test_path \"patches\"\n",
    "    --model \"unet\" \\\n",
    "    --loss_criterion \"wCEL\" \\\n",
    "    --epochs 100 \\\n",
    "    --batch_size 16"
   ]
  }
 ],
 "metadata": {
  "kernelspec": {
   "display_name": "Python 3.8.12 ('AML')",
   "language": "python",
   "name": "python3"
  },
  "language_info": {
   "codemirror_mode": {
    "name": "ipython",
    "version": 3
   },
   "file_extension": ".py",
   "mimetype": "text/x-python",
   "name": "python",
   "nbconvert_exporter": "python",
   "pygments_lexer": "ipython3",
   "version": "3.8.12"
  },
  "orig_nbformat": 4,
  "vscode": {
   "interpreter": {
    "hash": "51333e58befe23547b52dc9c29e81a66ebaee684106881b588cc4a4c2ce598a7"
   }
  }
 },
 "nbformat": 4,
 "nbformat_minor": 2
}
