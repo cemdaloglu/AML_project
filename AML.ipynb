{
  "nbformat": 4,
  "nbformat_minor": 0,
  "metadata": {
    "colab": {
      "provenance": [],
      "collapsed_sections": [],
      "authorship_tag": "ABX9TyNB7dYmZvjf9AF4Z3NF1BjT",
      "include_colab_link": true
    },
    "kernelspec": {
      "name": "python3",
      "display_name": "Python 3"
    },
    "language_info": {
      "name": "python"
    },
    "accelerator": "GPU",
    "gpuClass": "standard"
  },
  "cells": [
    {
      "cell_type": "markdown",
      "metadata": {
        "id": "view-in-github",
        "colab_type": "text"
      },
      "source": [
        "<a href=\"https://colab.research.google.com/github/cemdaloglu/AML_project/blob/main/AML.ipynb\" target=\"_parent\"><img src=\"https://colab.research.google.com/assets/colab-badge.svg\" alt=\"Open In Colab\"/></a>"
      ]
    },
    {
      "cell_type": "code",
      "source": [
        "!pip install tensorboardX"
      ],
      "metadata": {
        "colab": {
          "base_uri": "https://localhost:8080/"
        },
        "id": "B_tGnbvq8cKK",
        "outputId": "52a67e20-66d8-45ec-cc09-87e5b2987c03"
      },
      "execution_count": 8,
      "outputs": [
        {
          "output_type": "stream",
          "name": "stdout",
          "text": [
            "Looking in indexes: https://pypi.org/simple, https://us-python.pkg.dev/colab-wheels/public/simple/\n",
            "Collecting tensorboardX\n",
            "  Downloading tensorboardX-2.5.1-py2.py3-none-any.whl (125 kB)\n",
            "\u001b[K     |████████████████████████████████| 125 kB 32.9 MB/s \n",
            "\u001b[?25hRequirement already satisfied: protobuf<=3.20.1,>=3.8.0 in /usr/local/lib/python3.7/dist-packages (from tensorboardX) (3.17.3)\n",
            "Requirement already satisfied: numpy in /usr/local/lib/python3.7/dist-packages (from tensorboardX) (1.21.6)\n",
            "Requirement already satisfied: six>=1.9 in /usr/local/lib/python3.7/dist-packages (from protobuf<=3.20.1,>=3.8.0->tensorboardX) (1.15.0)\n",
            "Installing collected packages: tensorboardX\n",
            "Successfully installed tensorboardX-2.5.1\n"
          ]
        }
      ]
    },
    {
      "cell_type": "code",
      "execution_count": 3,
      "metadata": {
        "id": "fO9DvFhcB5Xz",
        "colab": {
          "base_uri": "https://localhost:8080/"
        },
        "outputId": "79412c1f-4ce4-45af-ec13-dc21bfcac10c"
      },
      "outputs": [
        {
          "output_type": "stream",
          "name": "stdout",
          "text": [
            "Mounted at /content/drive\n"
          ]
        }
      ],
      "source": [
        "from google.colab import drive\n",
        "import sys\n",
        "drive.mount('/content/drive')\n",
        "sys.path.append('/content/AML_project')"
      ]
    },
    {
      "cell_type": "code",
      "source": [
        "!git config --global user.name 'laierkasten23'\n",
        "!git config --global user.email 'lia.schmid98@gmx.de'"
      ],
      "metadata": {
        "id": "IX8ylY9HCMfM"
      },
      "execution_count": 4,
      "outputs": []
    },
    {
      "cell_type": "code",
      "source": [
        "username = 'cemdaloglu'\n",
        "repository = 'AML_project'\n",
        "# git_token = \n",
        "\n",
        "#!git clone {git_token}@github.com:{username}/{repository}.git\n",
        "!git clone https://{git_token}@github.com/{username}/{repository}"
      ],
      "metadata": {
        "id": "rhOUoywaEtKe",
        "colab": {
          "base_uri": "https://localhost:8080/"
        },
        "outputId": "fdbedc8b-9edf-4172-c443-9fde87fc0c0c"
      },
      "execution_count": 5,
      "outputs": [
        {
          "output_type": "stream",
          "name": "stdout",
          "text": [
            "Cloning into 'AML_project'...\n",
            "remote: Enumerating objects: 328, done.\u001b[K\n",
            "remote: Counting objects: 100% (205/205), done.\u001b[K\n",
            "remote: Compressing objects: 100% (140/140), done.\u001b[K\n",
            "remote: Total 328 (delta 122), reused 128 (delta 61), pack-reused 123\u001b[K\n",
            "Receiving objects: 100% (328/328), 6.74 MiB | 10.14 MiB/s, done.\n",
            "Resolving deltas: 100% (178/178), done.\n"
          ]
        }
      ]
    },
    {
      "cell_type": "code",
      "source": [
        "%cd AML_project"
      ],
      "metadata": {
        "id": "r3P1MX5hCmO3",
        "colab": {
          "base_uri": "https://localhost:8080/"
        },
        "outputId": "76575658-d63d-46e5-c182-a2963ea2bee7"
      },
      "execution_count": 6,
      "outputs": [
        {
          "output_type": "stream",
          "name": "stdout",
          "text": [
            "/content/AML_project\n"
          ]
        }
      ]
    },
    {
      "cell_type": "code",
      "source": [
        "# Now you can run trainin etc here!\n",
        "# As editing files does not seem to be possible, always run \n",
        "\n",
        "!git fetch --all\n",
        "!git reset --hard origin\n",
        "\n",
        "# and edit the files in VSCode! \n",
        "\n",
        "# change branch if necessary\n",
        "!git checkout main\n"
      ],
      "metadata": {
        "colab": {
          "base_uri": "https://localhost:8080/"
        },
        "id": "_ubzMZXptqWm",
        "outputId": "6da0de5a-a3cd-4f5e-f5c5-052004c20915"
      },
      "execution_count": null,
      "outputs": [
        {
          "output_type": "stream",
          "name": "stdout",
          "text": [
            "Fetching origin\n",
            "remote: Enumerating objects: 9, done.\u001b[K\n",
            "remote: Counting objects: 100% (9/9), done.\u001b[K\n",
            "remote: Compressing objects: 100% (1/1), done.\u001b[K\n",
            "remote: Total 5 (delta 4), reused 5 (delta 4), pack-reused 0\u001b[K\n",
            "Unpacking objects: 100% (5/5), done.\n",
            "From https://github.com/laierkasten23/software-practical-IPA-2022\n",
            "   36a66ee..5375e03  main       -> origin/main\n",
            "HEAD is now at 5375e03 searching for coloredVoronoi mistake\n"
          ]
        }
      ]
    },
    {
      "cell_type": "code",
      "source": [
        "modelname = \"first_try\"\n",
        "\n",
        "!python userfunctions/train.py\\\n",
        "    --name \"$modelname\"\\\n",
        "    --train_test_path \"patches\"\\\n",
        "    --model \"unet\" \\\n",
        "    --loss_criterion \"wCEL\" \\\n",
        "    --epochs 10 \\\n",
        "    --batch_size 16"
      ],
      "metadata": {
        "colab": {
          "base_uri": "https://localhost:8080/"
        },
        "id": "nwM3NhSGVHOv",
        "outputId": "82bf0f96-7c5d-4889-df9b-74e09fd7c039"
      },
      "execution_count": 9,
      "outputs": [
        {
          "output_type": "stream",
          "name": "stdout",
          "text": [
            "Using cuda? True\n",
            "Retrain model from scratch\n",
            "train_data path =  patches/train\n",
            "Traceback (most recent call last):\n",
            "  File \"userfunctions/train.py\", line 98, in <module>\n",
            "    args.batch_size\n",
            "  File \"/content/AML_project/src/data/dataloader.py\", line 20, in get_dataloaders\n",
            "    **kwargs\n",
            "  File \"/usr/local/lib/python3.7/dist-packages/torch/utils/data/dataloader.py\", line 353, in __init__\n",
            "    sampler = RandomSampler(dataset, generator=generator)  # type: ignore[arg-type]\n",
            "  File \"/usr/local/lib/python3.7/dist-packages/torch/utils/data/sampler.py\", line 106, in __init__\n",
            "    if not isinstance(self.num_samples, int) or self.num_samples <= 0:\n",
            "  File \"/usr/local/lib/python3.7/dist-packages/torch/utils/data/sampler.py\", line 114, in num_samples\n",
            "    return len(self.data_source)\n",
            "  File \"/content/AML_project/src/data/citydataclass.py\", line 27, in __len__\n",
            "    return len(os.listdir(self.patch_imgs_path))\n",
            "FileNotFoundError: [Errno 2] No such file or directory: 'patches/train/images/'\n"
          ]
        }
      ]
    }
  ]
}